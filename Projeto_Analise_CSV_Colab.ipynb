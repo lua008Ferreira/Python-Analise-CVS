{
  "cells": [
    {
      "cell_type": "markdown",
      "metadata": {},
      "source": [
        "# 🐍 Projeto Rápido: Analisador de Dados CSV (Google Colab)\n",
        "\n",
        "Este notebook roda **100% no Colab** (sem precisar instalar nada no seu PC).\n",
        "\n",
        "### Como usar\n",
        "1. **Execute as células na ordem** (Ctrl+Enter ou o botão ▶️ à esquerda).\n",
        "2. Na etapa de *Upload*, envie um arquivo chamado **`dados_vendas.csv`** com as colunas:\n",
        "   - `data` (YYYY-MM-DD), `produto`, `categoria`, `quantidade`, `preco_unitario`\n",
        "3. Se você **não enviar** um CSV, o notebook **gera um exemplo automático** para você treinar.\n",
        "4. No final, baixe os arquivos gerados: `grafico_receita_por_mes.png` e `resumo_metricas.txt`.\n",
        "\n",
        "> Dica: Depois, suba o gráfico e o resumo no seu **GitHub** com um README bonitinho. 😉"
      ]
    },
    {
      "cell_type": "code",
      "execution_count": null,
      "metadata": {},
      "outputs": [],
      "source": [
        "# 1) Instalar bibliotecas necessárias (rápido)\n",
        "!pip -q install pandas matplotlib"
      ]
    },
    {
      "cell_type": "code",
      "execution_count": null,
      "metadata": {},
      "outputs": [],
      "source": [
        "# 2) Upload opcional do CSV (ou geração automática de exemplo)\n",
        "from google.colab import files\n",
        "import io, numpy as np, pandas as pd\n",
        "from datetime import datetime\n",
        "\n",
        "print(\"\\n➡️ Se você tiver um arquivo 'dados_vendas.csv', faça o upload agora.\")\n",
        "print(\"   Caso contrário, vou gerar um exemplo automático para você.\")\n",
        "uploaded = files.upload()\n",
        "\n",
        "if 'dados_vendas.csv' in uploaded:\n",
        "    df = pd.read_csv(io.BytesIO(uploaded['dados_vendas.csv']), parse_dates=['data'])\n",
        "    print(\"\\n✅ CSV carregado com sucesso! Linhas:\", len(df))\n",
        "else:\n",
        "    rng = np.random.default_rng(42)\n",
        "    products = [\n",
        "        (\"Caderno\", \"Papelaria\", 18.90),\n",
        "        (\"Caneta\", \"Papelaria\", 4.50),\n",
        "        (\"Mochila\", \"Acessórios\", 129.90),\n",
        "        (\"Lapiseira\", \"Papelaria\", 12.00),\n",
        "        (\"Agenda\", \"Papelaria\", 32.00),\n",
        "        (\"Marca-texto\", \"Papelaria\", 7.90),\n",
        "        (\"Estojo\", \"Acessórios\", 39.90),\n",
        "    ]\n",
        "    date_range = pd.date_range(\"2025-01-01\", \"2025-08-31\", freq=\"D\")\n",
        "    rows = []\n",
        "    for _ in range(120):\n",
        "        d = rng.choice(date_range)\n",
        "        prod, cat, base_price = products[rng.integers(0, len(products))]\n",
        "        q = int(rng.integers(1, 12))\n",
        "        price = round(float(base_price * (1 + rng.normal(0, 0.10))), 2)\n",
        "        price = max(0.5, price)\n",
        "        rows.append((d, prod, cat, q, price))\n",
        "    df = pd.DataFrame(rows, columns=[\"data\", \"produto\", \"categoria\", \"quantidade\", \"preco_unitario\"])\n",
        "    print(\"\\nℹ️ Nenhum CSV enviado. Gerado um exemplo automático com\", len(df), \"linhas.\")\n",
        "\n",
        "# garantir tipos e coluna de receita\n",
        "df['data'] = pd.to_datetime(df['data'])\n",
        "df['quantidade'] = pd.to_numeric(df['quantidade'], errors='coerce').fillna(0)\n",
        "df['preco_unitario'] = pd.to_numeric(df['preco_unitario'], errors='coerce').fillna(0.0)\n",
        "df['receita'] = df['quantidade'] * df['preco_unitario']\n",
        "\n",
        "print(\"\\nPrévia do dataframe:\")\n",
        "display(df.head())"
      ]
    },
    {
      "cell_type": "code",
      "execution_count": null,
      "metadata": {},
      "outputs": [],
      "source": [
        "# 3) Métricas principais e agregações\n",
        "import pandas as pd\n",
        "registros = len(df)\n",
        "itens_total = int(df['quantidade'].sum())\n",
        "receita_total = float(df['receita'].sum())\n",
        "ticket_medio_por_venda = float(df['receita'].mean())\n",
        "\n",
        "top_prod = (\n",
        "    df.groupby('produto')['receita']\n",
        "      .sum()\n",
        "      .sort_values(ascending=False)\n",
        "      .head(5)\n",
        "      .reset_index()\n",
        ")\n",
        "\n",
        "receita_mes = (\n",
        "    df.set_index('data')\n",
        "      .resample('M')['receita']\n",
        "      .sum()\n",
        "      .reset_index()\n",
        ")\n",
        "\n",
        "print(\"Métricas principais:\")\n",
        "print({\n",
        "    'registros': registros,\n",
        "    'itens_total': itens_total,\n",
        "    'receita_total': round(receita_total, 2),\n",
        "    'ticket_medio_por_venda': round(ticket_medio_por_venda, 2)\n",
        "})\n",
        "\n",
        "print(\"\\nTop 5 produtos por receita:\")\n",
        "display(top_prod)\n",
        "\n",
        "print(\"\\nReceita por mês:\")\n",
        "display(receita_mes)"
      ]
    },
    {
      "cell_type": "code",
      "execution_count": null,
      "metadata": {},
      "outputs": [],
      "source": [
        "# 4) Gráfico simples (matplotlib, 1 gráfico, sem estilos/cores específicas)\n",
        "import matplotlib.pyplot as plt\n",
        "plt.figure()\n",
        "plt.bar(receita_mes['data'].dt.strftime('%Y-%m'), receita_mes['receita'])\n",
        "plt.title('Receita por mês')\n",
        "plt.xlabel('Mês')\n",
        "plt.ylabel('Receita (R$)')\n",
        "plt.xticks(rotation=45, ha='right')\n",
        "plt.tight_layout()\n",
        "plt.savefig('grafico_receita_por_mes.png', dpi=150)\n",
        "plt.show()\n",
        "print('✅ Gráfico salvo como grafico_receita_por_mes.png')"
      ]
    },
    {
      "cell_type": "code",
      "execution_count": null,
      "metadata": {},
      "outputs": [],
      "source": [
        "# 5) Salvar resumo das métricas em texto e disponibilizar para download\n",
        "resumo = []\n",
        "resumo.append(f\"Registros: {registros}\")\n",
        "resumo.append(f\"Itens vendidos (total): {itens_total}\")\n",
        "resumo.append(f\"Receita total: R${receita_total:.2f}\")\n",
        "resumo.append(f\"Ticket médio por venda: R${ticket_medio_por_venda:.2f}\")\n",
        "resumo.append(\"\")\n",
        "resumo.append(\"Top 5 produtos por receita:\")\n",
        "resumo.append(top_prod.to_string(index=False))\n",
        "resumo.append(\"\")\n",
        "resumo.append(\"Receita por mês:\")\n",
        "resumo.append(receita_mes.to_string(index=False))\n",
        "\n",
        "with open('resumo_metricas.txt', 'w', encoding='utf-8') as f:\n",
        "    f.write('\\n'.join(resumo))\n",
        "\n",
        "print('✅ Arquivo resumo_metricas.txt gerado.')"
      ]
    },
    {
      "cell_type": "code",
      "execution_count": null,
      "metadata": {},
      "outputs": [],
      "source": [
        "# 6) Downloads (rode esta célula para baixar os arquivos gerados)\n",
        "from google.colab import files\n",
        "files.download('grafico_receita_por_mes.png')\n",
        "files.download('resumo_metricas.txt')"
      ]
    }
  ],
  "metadata": {
    "kernelspec": {
      "display_name": "Python 3",
      "language": "python",
      "name": "python3"
    },
    "language_info": {
      "name": "python",
      "version": "3.x"
    },
    "colab": {
      "name": "Projeto_Analise_CSV_Colab.ipynb",
      "provenance": []
    }
  },
  "nbformat": 4,
  "nbformat_minor": 5
}